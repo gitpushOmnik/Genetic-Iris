{
 "cells": [
  {
   "cell_type": "code",
   "execution_count": 37,
   "metadata": {
    "id": "8Pep-_zFBjG0"
   },
   "outputs": [],
   "source": [
    "import numpy as np\n",
    "import pandas as pd\n",
    "import matplotlib.pyplot as plt\n",
    "from sklearn import datasets\n",
    "from sklearn.linear_model import LogisticRegression as LR\n",
    "from sklearn.model_selection import train_test_split\n",
    "import matplotlib.pyplot as plt"
   ]
  },
  {
   "cell_type": "code",
   "execution_count": 38,
   "metadata": {
    "colab": {
     "base_uri": "https://localhost:8080/"
    },
    "id": "Id3aDf4JBxPR",
    "outputId": "ea32fa83-ed05-400a-8bd6-869142bb5622"
   },
   "outputs": [
    {
     "name": "stdout",
     "output_type": "stream",
     "text": [
      "num_samples,num_features = (150, 4)\n",
      "train_indices =(38,),test_indices =(38,)\n"
     ]
    }
   ],
   "source": [
    "iris = datasets.load_iris()\n",
    "data = iris.data\n",
    "labels = iris.target\n",
    "num_samples,num_features = data.shape[0],data.shape[1]\n",
    "print(f'num_samples,num_features = {(num_samples,num_features)}')\n",
    "indices = np.arange(num_samples)\n",
    "X_train, X_test, y_train, y_test,train_indices,test_indices = train_test_split(data, labels,indices, test_size=0.6, random_state=42)\n",
    "train_indices = np.arange(1,num_samples,4)\n",
    "test_indices = np.arange(0,num_samples,4)\n",
    "print(f'train_indices ={train_indices.shape},test_indices ={test_indices.shape}')"
   ]
  },
  {
   "cell_type": "code",
   "execution_count": 39,
   "metadata": {
    "colab": {
     "base_uri": "https://localhost:8080/"
    },
    "id": "jDaWa2oWB2vB",
    "outputId": "32db6c86-5c41-43b9-a544-2f434eb23b35"
   },
   "outputs": [
    {
     "data": {
      "text/plain": [
       "array([[5.1, 3.5, 1.4, 0.2],\n",
       "       [4.9, 3. , 1.4, 0.2],\n",
       "       [4.7, 3.2, 1.3, 0.2],\n",
       "       [4.6, 3.1, 1.5, 0.2],\n",
       "       [5. , 3.6, 1.4, 0.2],\n",
       "       [5.4, 3.9, 1.7, 0.4],\n",
       "       [4.6, 3.4, 1.4, 0.3],\n",
       "       [5. , 3.4, 1.5, 0.2],\n",
       "       [4.4, 2.9, 1.4, 0.2],\n",
       "       [4.9, 3.1, 1.5, 0.1],\n",
       "       [5.4, 3.7, 1.5, 0.2],\n",
       "       [4.8, 3.4, 1.6, 0.2],\n",
       "       [4.8, 3. , 1.4, 0.1],\n",
       "       [4.3, 3. , 1.1, 0.1],\n",
       "       [5.8, 4. , 1.2, 0.2],\n",
       "       [5.7, 4.4, 1.5, 0.4],\n",
       "       [5.4, 3.9, 1.3, 0.4],\n",
       "       [5.1, 3.5, 1.4, 0.3],\n",
       "       [5.7, 3.8, 1.7, 0.3],\n",
       "       [5.1, 3.8, 1.5, 0.3],\n",
       "       [5.4, 3.4, 1.7, 0.2],\n",
       "       [5.1, 3.7, 1.5, 0.4],\n",
       "       [4.6, 3.6, 1. , 0.2],\n",
       "       [5.1, 3.3, 1.7, 0.5],\n",
       "       [4.8, 3.4, 1.9, 0.2],\n",
       "       [5. , 3. , 1.6, 0.2],\n",
       "       [5. , 3.4, 1.6, 0.4],\n",
       "       [5.2, 3.5, 1.5, 0.2],\n",
       "       [5.2, 3.4, 1.4, 0.2],\n",
       "       [4.7, 3.2, 1.6, 0.2],\n",
       "       [4.8, 3.1, 1.6, 0.2],\n",
       "       [5.4, 3.4, 1.5, 0.4],\n",
       "       [5.2, 4.1, 1.5, 0.1],\n",
       "       [5.5, 4.2, 1.4, 0.2],\n",
       "       [4.9, 3.1, 1.5, 0.2],\n",
       "       [5. , 3.2, 1.2, 0.2],\n",
       "       [5.5, 3.5, 1.3, 0.2],\n",
       "       [4.9, 3.6, 1.4, 0.1],\n",
       "       [4.4, 3. , 1.3, 0.2],\n",
       "       [5.1, 3.4, 1.5, 0.2],\n",
       "       [5. , 3.5, 1.3, 0.3],\n",
       "       [4.5, 2.3, 1.3, 0.3],\n",
       "       [4.4, 3.2, 1.3, 0.2],\n",
       "       [5. , 3.5, 1.6, 0.6],\n",
       "       [5.1, 3.8, 1.9, 0.4],\n",
       "       [4.8, 3. , 1.4, 0.3],\n",
       "       [5.1, 3.8, 1.6, 0.2],\n",
       "       [4.6, 3.2, 1.4, 0.2],\n",
       "       [5.3, 3.7, 1.5, 0.2],\n",
       "       [5. , 3.3, 1.4, 0.2],\n",
       "       [7. , 3.2, 4.7, 1.4],\n",
       "       [6.4, 3.2, 4.5, 1.5],\n",
       "       [6.9, 3.1, 4.9, 1.5],\n",
       "       [5.5, 2.3, 4. , 1.3],\n",
       "       [6.5, 2.8, 4.6, 1.5],\n",
       "       [5.7, 2.8, 4.5, 1.3],\n",
       "       [6.3, 3.3, 4.7, 1.6],\n",
       "       [4.9, 2.4, 3.3, 1. ],\n",
       "       [6.6, 2.9, 4.6, 1.3],\n",
       "       [5.2, 2.7, 3.9, 1.4],\n",
       "       [5. , 2. , 3.5, 1. ],\n",
       "       [5.9, 3. , 4.2, 1.5],\n",
       "       [6. , 2.2, 4. , 1. ],\n",
       "       [6.1, 2.9, 4.7, 1.4],\n",
       "       [5.6, 2.9, 3.6, 1.3],\n",
       "       [6.7, 3.1, 4.4, 1.4],\n",
       "       [5.6, 3. , 4.5, 1.5],\n",
       "       [5.8, 2.7, 4.1, 1. ],\n",
       "       [6.2, 2.2, 4.5, 1.5],\n",
       "       [5.6, 2.5, 3.9, 1.1],\n",
       "       [5.9, 3.2, 4.8, 1.8],\n",
       "       [6.1, 2.8, 4. , 1.3],\n",
       "       [6.3, 2.5, 4.9, 1.5],\n",
       "       [6.1, 2.8, 4.7, 1.2],\n",
       "       [6.4, 2.9, 4.3, 1.3],\n",
       "       [6.6, 3. , 4.4, 1.4],\n",
       "       [6.8, 2.8, 4.8, 1.4],\n",
       "       [6.7, 3. , 5. , 1.7],\n",
       "       [6. , 2.9, 4.5, 1.5],\n",
       "       [5.7, 2.6, 3.5, 1. ],\n",
       "       [5.5, 2.4, 3.8, 1.1],\n",
       "       [5.5, 2.4, 3.7, 1. ],\n",
       "       [5.8, 2.7, 3.9, 1.2],\n",
       "       [6. , 2.7, 5.1, 1.6],\n",
       "       [5.4, 3. , 4.5, 1.5],\n",
       "       [6. , 3.4, 4.5, 1.6],\n",
       "       [6.7, 3.1, 4.7, 1.5],\n",
       "       [6.3, 2.3, 4.4, 1.3],\n",
       "       [5.6, 3. , 4.1, 1.3],\n",
       "       [5.5, 2.5, 4. , 1.3],\n",
       "       [5.5, 2.6, 4.4, 1.2],\n",
       "       [6.1, 3. , 4.6, 1.4],\n",
       "       [5.8, 2.6, 4. , 1.2],\n",
       "       [5. , 2.3, 3.3, 1. ],\n",
       "       [5.6, 2.7, 4.2, 1.3],\n",
       "       [5.7, 3. , 4.2, 1.2],\n",
       "       [5.7, 2.9, 4.2, 1.3],\n",
       "       [6.2, 2.9, 4.3, 1.3],\n",
       "       [5.1, 2.5, 3. , 1.1],\n",
       "       [5.7, 2.8, 4.1, 1.3],\n",
       "       [6.3, 3.3, 6. , 2.5],\n",
       "       [5.8, 2.7, 5.1, 1.9],\n",
       "       [7.1, 3. , 5.9, 2.1],\n",
       "       [6.3, 2.9, 5.6, 1.8],\n",
       "       [6.5, 3. , 5.8, 2.2],\n",
       "       [7.6, 3. , 6.6, 2.1],\n",
       "       [4.9, 2.5, 4.5, 1.7],\n",
       "       [7.3, 2.9, 6.3, 1.8],\n",
       "       [6.7, 2.5, 5.8, 1.8],\n",
       "       [7.2, 3.6, 6.1, 2.5],\n",
       "       [6.5, 3.2, 5.1, 2. ],\n",
       "       [6.4, 2.7, 5.3, 1.9],\n",
       "       [6.8, 3. , 5.5, 2.1],\n",
       "       [5.7, 2.5, 5. , 2. ],\n",
       "       [5.8, 2.8, 5.1, 2.4],\n",
       "       [6.4, 3.2, 5.3, 2.3],\n",
       "       [6.5, 3. , 5.5, 1.8],\n",
       "       [7.7, 3.8, 6.7, 2.2],\n",
       "       [7.7, 2.6, 6.9, 2.3],\n",
       "       [6. , 2.2, 5. , 1.5],\n",
       "       [6.9, 3.2, 5.7, 2.3],\n",
       "       [5.6, 2.8, 4.9, 2. ],\n",
       "       [7.7, 2.8, 6.7, 2. ],\n",
       "       [6.3, 2.7, 4.9, 1.8],\n",
       "       [6.7, 3.3, 5.7, 2.1],\n",
       "       [7.2, 3.2, 6. , 1.8],\n",
       "       [6.2, 2.8, 4.8, 1.8],\n",
       "       [6.1, 3. , 4.9, 1.8],\n",
       "       [6.4, 2.8, 5.6, 2.1],\n",
       "       [7.2, 3. , 5.8, 1.6],\n",
       "       [7.4, 2.8, 6.1, 1.9],\n",
       "       [7.9, 3.8, 6.4, 2. ],\n",
       "       [6.4, 2.8, 5.6, 2.2],\n",
       "       [6.3, 2.8, 5.1, 1.5],\n",
       "       [6.1, 2.6, 5.6, 1.4],\n",
       "       [7.7, 3. , 6.1, 2.3],\n",
       "       [6.3, 3.4, 5.6, 2.4],\n",
       "       [6.4, 3.1, 5.5, 1.8],\n",
       "       [6. , 3. , 4.8, 1.8],\n",
       "       [6.9, 3.1, 5.4, 2.1],\n",
       "       [6.7, 3.1, 5.6, 2.4],\n",
       "       [6.9, 3.1, 5.1, 2.3],\n",
       "       [5.8, 2.7, 5.1, 1.9],\n",
       "       [6.8, 3.2, 5.9, 2.3],\n",
       "       [6.7, 3.3, 5.7, 2.5],\n",
       "       [6.7, 3. , 5.2, 2.3],\n",
       "       [6.3, 2.5, 5. , 1.9],\n",
       "       [6.5, 3. , 5.2, 2. ],\n",
       "       [6.2, 3.4, 5.4, 2.3],\n",
       "       [5.9, 3. , 5.1, 1.8]])"
      ]
     },
     "execution_count": 39,
     "metadata": {},
     "output_type": "execute_result"
    }
   ],
   "source": [
    "data"
   ]
  },
  {
   "cell_type": "code",
   "execution_count": 40,
   "metadata": {
    "colab": {
     "base_uri": "https://localhost:8080/"
    },
    "id": "cotUBMU9B30c",
    "outputId": "cd3e1d73-ff12-42e1-fe3b-4ecf6945249e"
   },
   "outputs": [
    {
     "data": {
      "text/plain": [
       "array([0, 0, 0, 0, 0, 0, 0, 0, 0, 0, 0, 0, 0, 0, 0, 0, 0, 0, 0, 0, 0, 0,\n",
       "       0, 0, 0, 0, 0, 0, 0, 0, 0, 0, 0, 0, 0, 0, 0, 0, 0, 0, 0, 0, 0, 0,\n",
       "       0, 0, 0, 0, 0, 0, 1, 1, 1, 1, 1, 1, 1, 1, 1, 1, 1, 1, 1, 1, 1, 1,\n",
       "       1, 1, 1, 1, 1, 1, 1, 1, 1, 1, 1, 1, 1, 1, 1, 1, 1, 1, 1, 1, 1, 1,\n",
       "       1, 1, 1, 1, 1, 1, 1, 1, 1, 1, 1, 1, 2, 2, 2, 2, 2, 2, 2, 2, 2, 2,\n",
       "       2, 2, 2, 2, 2, 2, 2, 2, 2, 2, 2, 2, 2, 2, 2, 2, 2, 2, 2, 2, 2, 2,\n",
       "       2, 2, 2, 2, 2, 2, 2, 2, 2, 2, 2, 2, 2, 2, 2, 2, 2, 2])"
      ]
     },
     "execution_count": 40,
     "metadata": {},
     "output_type": "execute_result"
    }
   ],
   "source": [
    "labels"
   ]
  },
  {
   "cell_type": "code",
   "execution_count": 41,
   "metadata": {
    "colab": {
     "base_uri": "https://localhost:8080/"
    },
    "id": "wSeZM4BFCDZt",
    "outputId": "8cad9f6c-db01-4f48-a705-91ba18f2c478"
   },
   "outputs": [
    {
     "data": {
      "text/plain": [
       "array([  1,   5,   9,  13,  17,  21,  25,  29,  33,  37,  41,  45,  49,\n",
       "        53,  57,  61,  65,  69,  73,  77,  81,  85,  89,  93,  97, 101,\n",
       "       105, 109, 113, 117, 121, 125, 129, 133, 137, 141, 145, 149])"
      ]
     },
     "execution_count": 41,
     "metadata": {},
     "output_type": "execute_result"
    }
   ],
   "source": [
    "train_indices"
   ]
  },
  {
   "cell_type": "code",
   "execution_count": 42,
   "metadata": {
    "colab": {
     "base_uri": "https://localhost:8080/"
    },
    "id": "gXA30tbdCGnF",
    "outputId": "c6b37daa-6fbc-4f7c-c49e-072fa7b62252"
   },
   "outputs": [
    {
     "data": {
      "text/plain": [
       "array([  0,   4,   8,  12,  16,  20,  24,  28,  32,  36,  40,  44,  48,\n",
       "        52,  56,  60,  64,  68,  72,  76,  80,  84,  88,  92,  96, 100,\n",
       "       104, 108, 112, 116, 120, 124, 128, 132, 136, 140, 144, 148])"
      ]
     },
     "execution_count": 42,
     "metadata": {},
     "output_type": "execute_result"
    }
   ],
   "source": [
    "test_indices"
   ]
  },
  {
   "cell_type": "code",
   "execution_count": 43,
   "metadata": {
    "colab": {
     "base_uri": "https://localhost:8080/",
     "height": 1000
    },
    "id": "UcHiSviJCIid",
    "outputId": "3c0267d3-c1bc-4978-82c4-c1b4b46e4cd5"
   },
   "outputs": [
    {
     "name": "stdout",
     "output_type": "stream",
     "text": [
      "new_population: [[0 0 1 1]\n",
      " [1 1 1 0]\n",
      " [0 0 0 0]\n",
      " [0 0 1 1]\n",
      " [0 1 0 0]\n",
      " [0 1 1 0]\n",
      " [0 0 1 1]\n",
      " [0 1 0 1]\n",
      " [1 1 1 0]\n",
      " [1 0 1 0]] \n",
      "Gen: 0 => Best result : 0.9473684210526315\n",
      "Gen: 1 => Best result : 0.9210526315789473\n",
      "Gen: 2 => Best result : 0.9210526315789473\n",
      "Gen: 3 => Best result : 0.9736842105263158\n",
      "Gen: 4 => Best result : 0.9736842105263158\n",
      "Gen: 5 => Best result : 0.9210526315789473\n",
      "Gen: 6 => Best result : 0.9736842105263158\n",
      "Gen: 7 => Best result : 0.9210526315789473\n",
      "Gen: 8 => Best result : 0.9210526315789473\n",
      "Gen: 9 => Best result : 0.7894736842105263\n",
      "Gen: 10 => Best result : 0.7894736842105263\n",
      "Gen: 11 => Best result : 0.8947368421052632\n",
      "Gen: 12 => Best result : 0.9736842105263158\n",
      "Gen: 13 => Best result : 0.9736842105263158\n",
      "Gen: 14 => Best result : 0.9736842105263158\n",
      "Gen: 15 => Best result : 0.7894736842105263\n",
      "Gen: 16 => Best result : 0.9736842105263158\n",
      "Gen: 17 => Best result : 0.9473684210526315\n",
      "Gen: 18 => Best result : 0.9210526315789473\n",
      "Gen: 19 => Best result : 0.9210526315789473\n",
      "Gen: 20 => Best result : 0.9736842105263158\n",
      "Gen: 21 => Best result : 0.9736842105263158\n",
      "Gen: 22 => Best result : 0.9736842105263158\n",
      "Gen: 23 => Best result : 0.9210526315789473\n",
      "Gen: 24 => Best result : 0.9736842105263158\n",
      "Gen: 25 => Best result : 0.9736842105263158\n",
      "Gen: 26 => Best result : 0.9210526315789473\n",
      "Gen: 27 => Best result : 0.9736842105263158\n",
      "Gen: 28 => Best result : 0.9210526315789473\n",
      "Gen: 29 => Best result : 0.9736842105263158\n",
      "Gen: 30 => Best result : 0.9736842105263158\n",
      "Gen: 31 => Best result : 0.5526315789473685\n",
      "Gen: 32 => Best result : 0.8947368421052632\n",
      "Gen: 33 => Best result : 0.9736842105263158\n",
      "Gen: 34 => Best result : 0.7894736842105263\n",
      "Gen: 35 => Best result : 0.9736842105263158\n",
      "Gen: 36 => Best result : 0.9210526315789473\n",
      "Gen: 37 => Best result : 0.9736842105263158\n",
      "Gen: 38 => Best result : 0.9210526315789473\n",
      "Gen: 39 => Best result : 0.9736842105263158\n",
      "Gen: 40 => Best result : 0.9736842105263158\n",
      "Gen: 41 => Best result : 0.9736842105263158\n",
      "Gen: 42 => Best result : 0.5526315789473685\n",
      "Gen: 43 => Best result : 0.9210526315789473\n",
      "Gen: 44 => Best result : 0.9210526315789473\n",
      "Gen: 45 => Best result : 0.9736842105263158\n",
      "Gen: 46 => Best result : 0.9210526315789473\n",
      "Gen: 47 => Best result : 0.9210526315789473\n",
      "Gen: 48 => Best result : 0.9473684210526315\n",
      "Gen: 49 => Best result : 0.9736842105263158\n",
      "np.max(scores) =0.9210526315789473\n",
      "best_match_idx :  0\n",
      "best_solution :  [0 0 1 0]\n",
      "Selected indices :  [2]\n",
      "Number of selected elements :  1\n"
     ]
    },
    {
     "data": {
      "image/png": "[encoded data removed]",
      "text/plain": [
       "<Figure size 432x288 with 1 Axes>"
      ]
     },
     "metadata": {
      "needs_background": "light"
     },
     "output_type": "display_data"
    }
   ],
   "source": [
    "from numpy.random import randint\n",
    "from numpy.random import rand\n",
    "\n",
    "\n",
    "def select_features(elem,features):\n",
    "    selected_elem = np.where(elem==1)[0]\n",
    "    selected_features = features[:,selected_elem]\n",
    "    return selected_features\n",
    "\n",
    "def classification_accuracy(labels,preds):\n",
    "    correct = np.where(labels == preds)[0]\n",
    "    accuracy = correct.shape[0]/labels.shape[0]\n",
    "    return accuracy\n",
    "\n",
    "def objective(pop,data,labels,train_ind,test_ind):\n",
    "    accuracies = np.zeros(pop.shape[0])\n",
    "    idx= 0\n",
    "    for elem in pop:\n",
    "        selected_features = select_features(elem,data)\n",
    "        train_data = selected_features[train_ind,:]\n",
    "        test_data = selected_features[test_ind,:]\n",
    "        if train_data.shape[0]==0 or train_data.shape[1]==0 or test_data.shape[0]==0 or test_data.shape[1]==0:\n",
    "            idx=idx+1\n",
    "            continue\n",
    "        train_labels = labels[train_indices]\n",
    "        test_labels = labels[test_indices]\n",
    "        LR_classifier = LR(random_state=0)\n",
    "        LR_classifier.fit(X=train_data, y=train_labels)\n",
    "        predictions = LR_classifier.predict(test_data)\n",
    "        accuracies[idx] = classification_accuracy(test_labels, predictions)\n",
    "        idx = idx + 1\n",
    "    return accuracies\n",
    "\n",
    "def parent_selection(pop,n_pop,scores,k=3):\n",
    "    selected = []\n",
    "    for _ in range(n_pop):\n",
    "        idx = randint(len(pop))\n",
    "        for ix in randint(0, len(pop),k-1):\n",
    "            if scores[ix] < scores[idx]:\n",
    "                idx = ix\n",
    "        selected.append(pop[idx])\n",
    "    return selected\n",
    "\n",
    "def crossover(p1,p2,r_cross):\n",
    "    c1 = p1.copy()\n",
    "    c2 = p2.copy()\n",
    "    if rand() < r_cross:\n",
    "        pt = randint(1, len(p1)-2)\n",
    "        c1 = list(p1[:pt])+list(p2[pt:])\n",
    "        c2 = list(p2[:pt])+list(p1[pt:])\n",
    "    return [np.array(c1), np.array(c2)]\n",
    "\n",
    "def mutation(bitstring, r_mut):\n",
    "    for i in range(len(bitstring)):\n",
    "        if rand() < r_mut:\n",
    "            bitstring[i] = 1 - bitstring[i]\n",
    "    return bitstring\n",
    "\n",
    "def get_children(selected_parents,n_pop,r_cross,r_mut):\n",
    "    children = []\n",
    "    for i in range(0, n_pop, 2):\n",
    "        p1, p2 = selected_parents[i], selected_parents[i+1]\n",
    "        for c in crossover(p1, p2, r_cross):\n",
    "            mutation(c, r_mut)\n",
    "            children.append(c)\n",
    "    return np.array(children)\n",
    "\n",
    "def genetic_algorithm(epochs,data,labels,train_indices,test_indices):\n",
    "    pop_size = 10\n",
    "    k = 4\n",
    "    r_cross = 0.9\n",
    "    r_mut = 1/pop_size\n",
    "    pop_shape = (pop_size, num_features)\n",
    "    new_population = np.random.randint(low=0, high=2, size=pop_shape)\n",
    "    print(f\"new_population: {new_population} \")\n",
    "    \n",
    "    best_outputs = []\n",
    "    num_generations = epochs\n",
    "    for gen in range(num_generations):\n",
    "        scores = objective(new_population, data, labels, train_indices, test_indices)\n",
    "        \n",
    "        best_outputs.append(np.max(scores))\n",
    "        print(f\"Gen: {gen} => Best result : {best_outputs[-1]}\")\n",
    "\n",
    "        selected = parent_selection(new_population,pop_size,scores)\n",
    "\n",
    "        children = get_children(selected,pop_size,r_cross,r_mut)\n",
    "\n",
    "        new_population = children\n",
    "\n",
    "    scores = objective(new_population, data, labels, train_indices, test_indices)\n",
    "\n",
    "    best_match_idx = np.where(scores == np.max(scores))[0]\n",
    "    best_match_idx = best_match_idx[0]\n",
    "    print(f'np.max(scores) ={np.max(scores)}')\n",
    "    best_solution = new_population[best_match_idx, :]\n",
    "    best_solution_indices = np.where(best_solution == 1)[0]\n",
    "    best_solution_num_elements = best_solution_indices.shape[0]\n",
    "    #best_solution_fitness = scores[best_match_idx]\n",
    "\n",
    "    print(\"best_match_idx : \", best_match_idx)\n",
    "    print(\"best_solution : \", best_solution)\n",
    "    print(\"Selected indices : \", best_solution_indices)\n",
    "    print(\"Number of selected elements : \", best_solution_num_elements)\n",
    "    #print(\"Best solution fitness : \", best_solution_fitness)\n",
    "\n",
    "    plt.plot(best_outputs)\n",
    "    plt.xlabel(\"Iteration\")\n",
    "    plt.ylabel(\"Fitness\")\n",
    "    plt.show()\n",
    "\n",
    "genetic_algorithm(50, data, labels, train_indices, test_indices)"
   ]
  },
  {
   "cell_type": "code",
   "execution_count": null,
   "metadata": {},
   "outputs": [],
   "source": []
  }
 ],
 "metadata": {
  "colab": {
   "collapsed_sections": [],
   "name": "41370_41385_SCOA_MiniProject1.ipynb",
   "provenance": []
  },
  "kernelspec": {
   "display_name": "Python 3 (ipykernel)",
   "language": "python",
   "name": "python3"
  },
  "language_info": {
   "codemirror_mode": {
    "name": "ipython",
    "version": 3
   },
   "file_extension": ".py",
   "mimetype": "text/x-python",
   "name": "python",
   "nbconvert_exporter": "python",
   "pygments_lexer": "ipython3",
   "version": "3.9.7"
  }
 },
 "nbformat": 4,
 "nbformat_minor": 1
}
